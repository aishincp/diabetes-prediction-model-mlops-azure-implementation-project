{
  "cells": [
    {
      "cell_type": "code",
      "source": [
        "from azureml.core import Workspace, Dataset, Experiment\n",
        "from sklearn.linear_model import LogisticRegression\n",
        "from sklearn.model_selection import train_test_split\n",
        "import pandas as pd\n",
        "import joblib"
      ],
      "outputs": [],
      "execution_count": 1,
      "metadata": {
        "gather": {
          "logged": 1739956813866
        }
      }
    },
    {
      "cell_type": "markdown",
      "source": [
        "## Training the LR model"
      ],
      "metadata": {
        "nteract": {
          "transient": {
            "deleting": false
          }
        }
      }
    },
    {
      "cell_type": "code",
      "source": [
        "from azureml.core import Dataset, Workspace\n",
        "\n",
        "# Load workspace\n",
        "ws = Workspace.from_config()\n",
        "\n",
        "# Get the dataset\n",
        "dataset = Dataset.get_by_name(ws, name='diabetes-data')\n",
        "\n",
        "# Convert to pandas DataFrame\n",
        "df = dataset.to_pandas_dataframe()\n",
        "\n",
        "# Display the first few rows\n",
        "df.head()"
      ],
      "outputs": [
        {
          "output_type": "stream",
          "name": "stdout",
          "text": "{'infer_column_types': 'False', 'activity': 'to_pandas_dataframe'}\n{'infer_column_types': 'False', 'activity': 'to_pandas_dataframe', 'activityApp': 'TabularDataset'}\n"
        },
        {
          "output_type": "execute_result",
          "execution_count": 2,
          "data": {
            "text/plain": "   Pregnancies  Glucose  BloodPressure  SkinThickness  Insulin   BMI  \\\n0            6      148             72             35        0  33.6   \n1            1       85             66             29        0  26.6   \n2            8      183             64              0        0  23.3   \n3            1       89             66             23       94  28.1   \n4            0      137             40             35      168  43.1   \n\n   DiabetesPedigreeFunction  Age  Outcome  \n0                     0.627   50        1  \n1                     0.351   31        0  \n2                     0.672   32        1  \n3                     0.167   21        0  \n4                     2.288   33        1  ",
            "text/html": "<div>\n<style scoped>\n    .dataframe tbody tr th:only-of-type {\n        vertical-align: middle;\n    }\n\n    .dataframe tbody tr th {\n        vertical-align: top;\n    }\n\n    .dataframe thead th {\n        text-align: right;\n    }\n</style>\n<table border=\"1\" class=\"dataframe\">\n  <thead>\n    <tr style=\"text-align: right;\">\n      <th></th>\n      <th>Pregnancies</th>\n      <th>Glucose</th>\n      <th>BloodPressure</th>\n      <th>SkinThickness</th>\n      <th>Insulin</th>\n      <th>BMI</th>\n      <th>DiabetesPedigreeFunction</th>\n      <th>Age</th>\n      <th>Outcome</th>\n    </tr>\n  </thead>\n  <tbody>\n    <tr>\n      <th>0</th>\n      <td>6</td>\n      <td>148</td>\n      <td>72</td>\n      <td>35</td>\n      <td>0</td>\n      <td>33.6</td>\n      <td>0.627</td>\n      <td>50</td>\n      <td>1</td>\n    </tr>\n    <tr>\n      <th>1</th>\n      <td>1</td>\n      <td>85</td>\n      <td>66</td>\n      <td>29</td>\n      <td>0</td>\n      <td>26.6</td>\n      <td>0.351</td>\n      <td>31</td>\n      <td>0</td>\n    </tr>\n    <tr>\n      <th>2</th>\n      <td>8</td>\n      <td>183</td>\n      <td>64</td>\n      <td>0</td>\n      <td>0</td>\n      <td>23.3</td>\n      <td>0.672</td>\n      <td>32</td>\n      <td>1</td>\n    </tr>\n    <tr>\n      <th>3</th>\n      <td>1</td>\n      <td>89</td>\n      <td>66</td>\n      <td>23</td>\n      <td>94</td>\n      <td>28.1</td>\n      <td>0.167</td>\n      <td>21</td>\n      <td>0</td>\n    </tr>\n    <tr>\n      <th>4</th>\n      <td>0</td>\n      <td>137</td>\n      <td>40</td>\n      <td>35</td>\n      <td>168</td>\n      <td>43.1</td>\n      <td>2.288</td>\n      <td>33</td>\n      <td>1</td>\n    </tr>\n  </tbody>\n</table>\n</div>"
          },
          "metadata": {}
        }
      ],
      "execution_count": 2,
      "metadata": {
        "gather": {
          "logged": 1739956832432
        }
      }
    },
    {
      "cell_type": "code",
      "source": [
        "# Split data\n",
        "X = df.drop('Outcome', axis=1)\n",
        "y = df['Outcome']\n",
        "X_train, X_test, y_train, y_test = train_test_split(X, y, test_size=0.2, random_state=42)\n",
        "\n",
        "# Train model\n",
        "model = LogisticRegression(max_iter=1000)\n",
        "model.fit(X_train, y_train)\n",
        "\n",
        "# Save model\n",
        "joblib.dump(model, 'model.pkl')"
      ],
      "outputs": [
        {
          "output_type": "execute_result",
          "execution_count": 3,
          "data": {
            "text/plain": "['model.pkl']"
          },
          "metadata": {}
        }
      ],
      "execution_count": 3,
      "metadata": {
        "gather": {
          "logged": 1739956840646
        }
      }
    },
    {
      "cell_type": "markdown",
      "source": [
        "## Registering the LR Model "
      ],
      "metadata": {
        "nteract": {
          "transient": {
            "deleting": false
          }
        }
      }
    },
    {
      "cell_type": "code",
      "source": [
        "from azureml.core import Model\n",
        "\n",
        "# Register the model\n",
        "model = Model.register(\n",
        "    workspace=ws,\n",
        "    model_path=\"model.pkl\",\n",
        "    model_name=\"diabetes-lr\",\n",
        "    tags={\"framework\": \"scikit-learn\"}\n",
        ")"
      ],
      "outputs": [
        {
          "output_type": "stream",
          "name": "stdout",
          "text": "Registering model diabetes-lr\n"
        }
      ],
      "execution_count": 4,
      "metadata": {
        "gather": {
          "logged": 1739956856618
        }
      }
    },
    {
      "cell_type": "code",
      "source": [
        "# Checking the avialable env\n",
        "for env in ws.environments:\n",
        "    print(env)"
      ],
      "outputs": [
        {
          "output_type": "stream",
          "name": "stdout",
          "text": "AzureML-ACPT-pytorch-1.13-py38-cuda11.7-gpu\nAzureML-Pytorch1.7-Cuda11-OpenMpi4.1.0-py36\nAzureML-Scikit-learn0.24-Cuda11-OpenMpi4.1.0-py36\nAzureML-TensorFlow2.4-Cuda11-OpenMpi4.1.0-py36\n"
        }
      ],
      "execution_count": 5,
      "metadata": {
        "gather": {
          "logged": 1739956859625
        }
      }
    },
    {
      "cell_type": "code",
      "source": [
        "# Creating a custom environment\n",
        "from azureml.core import Environment\n",
        "from azureml.core.conda_dependencies import CondaDependencies\n",
        "\n",
        "env = Environment(name=\"diabetets-env\")\n",
        "\n",
        "# Add dependencies\n",
        "conda_deps = CondaDependencies()\n",
        "conda_deps.add_pip_package(\"scikit-learn\")\n",
        "conda_deps.add_pip_package(\"joblib\")\n",
        "conda_deps.add_pip_package(\"numpy\")\n",
        "\n",
        "# Assigning dependencies to env\n",
        "env.python.conda_dependencies = conda_deps\n",
        "\n",
        "env.register(workspace=ws)"
      ],
      "outputs": [
        {
          "output_type": "execute_result",
          "execution_count": 7,
          "data": {
            "text/plain": "{\n    \"assetId\": \"azureml://locations/northeurope/workspaces/7d873530-0dcb-4b64-849b-903f34f77508/environments/diabetets-env/versions/1\",\n    \"databricks\": {\n        \"eggLibraries\": [],\n        \"jarLibraries\": [],\n        \"mavenLibraries\": [],\n        \"pypiLibraries\": [],\n        \"rcranLibraries\": []\n    },\n    \"docker\": {\n        \"arguments\": [],\n        \"baseDockerfile\": null,\n        \"baseImage\": \"mcr.microsoft.com/azureml/openmpi4.1.0-ubuntu20.04:20240908.v1\",\n        \"baseImageRegistry\": {\n            \"address\": null,\n            \"password\": null,\n            \"registryIdentity\": null,\n            \"username\": null\n        },\n        \"buildContext\": null,\n        \"enabled\": false,\n        \"platform\": {\n            \"architecture\": \"amd64\",\n            \"os\": \"Linux\"\n        },\n        \"sharedVolumes\": true,\n        \"shmSize\": null\n    },\n    \"environmentVariables\": {\n        \"EXAMPLE_ENV_VAR\": \"EXAMPLE_VALUE\"\n    },\n    \"inferencingStackVersion\": null,\n    \"name\": \"diabetets-env\",\n    \"python\": {\n        \"baseCondaEnvironment\": null,\n        \"condaDependencies\": {\n            \"channels\": [\n                \"anaconda\",\n                \"conda-forge\"\n            ],\n            \"dependencies\": [\n                \"python=3.8.13\",\n                {\n                    \"pip\": [\n                        \"azureml-defaults\",\n                        \"scikit-learn\",\n                        \"joblib\",\n                        \"numpy\"\n                    ]\n                }\n            ],\n            \"name\": \"project_environment\"\n        },\n        \"condaDependenciesFile\": null,\n        \"interpreterPath\": \"python\",\n        \"userManagedDependencies\": false\n    },\n    \"r\": null,\n    \"spark\": {\n        \"packages\": [],\n        \"precachePackages\": true,\n        \"repositories\": []\n    },\n    \"version\": \"1\"\n}"
          },
          "metadata": {}
        }
      ],
      "execution_count": 7,
      "metadata": {
        "gather": {
          "logged": 1739957108969
        }
      }
    },
    {
      "cell_type": "markdown",
      "source": [
        "## Deploy the Model to ACI"
      ],
      "metadata": {
        "nteract": {
          "transient": {
            "deleting": false
          }
        }
      }
    },
    {
      "cell_type": "code",
      "source": [
        "from azureml.core.webservice import AciWebservice\n",
        "from azureml.core.model import InferenceConfig\n",
        "\n",
        "# Inference configuration\n",
        "inf_config = InferenceConfig(\n",
        "    entry_script=\"score.py\",  # Ensure this is a .py file, not .ipynb\n",
        "    environment=env  # Use the custom environment\n",
        ")\n",
        "\n",
        "# Deployment config\n",
        "deploy_config = AciWebservice.deploy_configuration(\n",
        "    cpu_cores=1,\n",
        "    memory_gb=1\n",
        ")\n",
        "\n",
        "# Model deployment\n",
        "service = Model.deploy(\n",
        "    workspace=ws,\n",
        "    name=\"diabetes-aci-service-v2\",\n",
        "    models=[model],\n",
        "    inference_config=inf_config,\n",
        "    deployment_config=deploy_config\n",
        ")\n",
        "\n",
        "service.wait_for_deployment(show_output=True)\n",
        "print(service.scoring_uri)"
      ],
      "outputs": [
        {
          "output_type": "stream",
          "name": "stderr",
          "text": "/tmp/ipykernel_3113/2235063264.py:17: FutureWarning: azureml.core.model:\nTo leverage new model deployment capabilities, AzureML recommends using CLI/SDK v2 to deploy models as online endpoint, \nplease refer to respective documentations \nhttps://docs.microsoft.com/azure/machine-learning/how-to-deploy-managed-online-endpoints /\nhttps://docs.microsoft.com/azure/machine-learning/how-to-attach-kubernetes-anywhere \nFor more information on migration, see https://aka.ms/acimoemigration \nTo disable CLI/SDK v1 deprecation warning set AZUREML_LOG_DEPRECATION_WARNING_ENABLED to 'False'\n  service = Model.deploy(\n"
        },
        {
          "output_type": "stream",
          "name": "stdout",
          "text": "Tips: You can try get_logs(): https://aka.ms/debugimage#dockerlog or local deployment: https://aka.ms/debugimage#debug-locally to debug if deployment takes longer than 10 minutes.\nRunning\n2025-02-19 09:28:53+00:00 Creating Container Registry if not exists.\n2025-02-19 09:28:54+00:00 Building image..\n2025-02-19 09:35:00+00:00 Generating deployment configuration..\n2025-02-19 09:35:01+00:00 Submitting deployment to compute..\n2025-02-19 09:35:08+00:00 Checking the status of deployment diabetes-aci-service-v2..\n2025-02-19 09:36:35+00:00 Checking the status of inference endpoint diabetes-aci-service-v2.\nSucceeded\nACI service creation operation finished, operation \"Succeeded\"\nhttp://8fb3b137-7061-4621-a971-2bb424fc12d6.northeurope.azurecontainer.io/score\n"
        }
      ],
      "execution_count": 12,
      "metadata": {
        "gather": {
          "logged": 1739957799047
        }
      }
    },
    {
      "cell_type": "markdown",
      "source": [
        "## Testing the deployed model"
      ],
      "metadata": {
        "nteract": {
          "transient": {
            "deleting": false
          }
        }
      }
    },
    {
      "cell_type": "code",
      "source": [
        "import requests\n",
        "import json\n",
        "\n",
        "# Input data for prediction\n",
        "input_data = json.dumps({\n",
        "    \"data\": [[6, 148, 72, 35, 0, 33.6, 0.627, 50]]  # Example input\n",
        "})\n",
        "\n",
        "# Make a POST request\n",
        "response = requests.post(\n",
        "    url=service.scoring_uri,\n",
        "    data=input_data,\n",
        "    headers={\"Content-Type\": \"application/json\"}\n",
        ")\n",
        "\n",
        "# Print the prediction result\n",
        "print(response.json())"
      ],
      "outputs": [
        {
          "output_type": "stream",
          "name": "stdout",
          "text": "{\"prediction\": [1]}\n"
        }
      ],
      "execution_count": 14,
      "metadata": {
        "gather": {
          "logged": 1739958213272
        }
      }
    }
  ],
  "metadata": {
    "kernelspec": {
      "name": "python310-sdkv2",
      "language": "python",
      "display_name": "Python 3.10 - SDK v2"
    },
    "language_info": {
      "name": "python",
      "version": "3.10.14",
      "mimetype": "text/x-python",
      "codemirror_mode": {
        "name": "ipython",
        "version": 3
      },
      "pygments_lexer": "ipython3",
      "nbconvert_exporter": "python",
      "file_extension": ".py"
    },
    "microsoft": {
      "ms_spell_check": {
        "ms_spell_check_language": "en"
      },
      "host": {
        "AzureML": {
          "notebookHasBeenCompleted": true
        }
      }
    },
    "nteract": {
      "version": "nteract-front-end@1.0.0"
    },
    "kernel_info": {
      "name": "python310-sdkv2"
    }
  },
  "nbformat": 4,
  "nbformat_minor": 2
}
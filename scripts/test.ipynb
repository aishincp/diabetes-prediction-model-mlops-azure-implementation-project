{
  "cells": [
    {
      "cell_type": "markdown",
      "source": [
        "## Testing the deployed model"
      ],
      "metadata": {
        "nteract": {
          "transient": {
            "deleting": false
          }
        }
      }
    },
    {
      "cell_type": "code",
      "source": [
        "from azureml.core import Workspace\n",
        "from azureml.core.webservice import Webservice\n",
        "\n",
        "# Load workspace\n",
        "ws = Workspace.from_config()\n",
        "\n",
        "# Retrieve the deployed service\n",
        "service_name = \"diabetes-aci-service\"  # Replace with your service name\n",
        "service = Webservice(workspace=ws, name=service_name)\n",
        "\n",
        "# Print the scoring URI\n",
        "print(\"Scoring URI:\", service.scoring_uri)"
      ],
      "outputs": [
        {
          "output_type": "stream",
          "name": "stdout",
          "text": "Scoring URI: http://72af41a3-90b1-4552-8ed1-f42fb6e193ed.northeurope.azurecontainer.io/score\n"
        }
      ],
      "execution_count": 2,
      "metadata": {
        "gather": {
          "logged": 1739964738684
        }
      }
    },
    {
      "cell_type": "code",
      "source": [],
      "outputs": [],
      "execution_count": null,
      "metadata": {}
    }
  ],
  "metadata": {
    "kernelspec": {
      "name": "python310-sdkv2",
      "language": "python",
      "display_name": "Python 3.10 - SDK v2"
    },
    "language_info": {
      "name": "python",
      "version": "3.10.14",
      "mimetype": "text/x-python",
      "codemirror_mode": {
        "name": "ipython",
        "version": 3
      },
      "pygments_lexer": "ipython3",
      "nbconvert_exporter": "python",
      "file_extension": ".py"
    },
    "microsoft": {
      "ms_spell_check": {
        "ms_spell_check_language": "en"
      }
    },
    "kernel_info": {
      "name": "python310-sdkv2"
    },
    "nteract": {
      "version": "nteract-front-end@1.0.0"
    }
  },
  "nbformat": 4,
  "nbformat_minor": 2
}